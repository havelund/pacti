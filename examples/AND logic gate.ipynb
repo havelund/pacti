{
 "cells": [
  {
   "cell_type": "markdown",
   "metadata": {},
   "source": [
    "### Contracts for an AND logic gate composed of three subsystems using gear\n",
    "\n",
    "Import the libraries:"
   ]
  },
  {
   "cell_type": "code",
   "execution_count": 1,
   "metadata": {},
   "outputs": [],
   "source": [
    "import gear.iocontract as iocontract\n",
    "import gear.polyhedralterm as polyhedralterm\n",
    "from gear.gear import getVarset"
   ]
  },
  {
   "cell_type": "markdown",
   "metadata": {},
   "source": [
    "Write contracts for subsystem 1 and subsystem 2:"
   ]
  },
  {
   "cell_type": "code",
   "execution_count": 2,
   "metadata": {},
   "outputs": [],
   "source": [
    "\n",
    "contract1 = {\n",
    "        \"_comment1\": \"contract for subsystem 1, the assumption is that if input (u_1)\"\n",
    "        \"is greater than u_1_min = 1, then it guarantees that the output (x_1) is greater than x_1_min = 1.5\",\n",
    "        \"InputVars\":[\n",
    "            \"u_1\"\n",
    "        ],\n",
    "        \"OutputVars\":[\n",
    "            \"x_1\"\n",
    "        ],\n",
    "        \"assumptions\":\n",
    "        [\n",
    "            {\"coefficients\":{\"u_1\":-1},\n",
    "            \"constant\":-1}\n",
    "        ],\n",
    "        \"guarantees\":\n",
    "        [\n",
    "            {\"coefficients\":{\"x_1\":-1},\n",
    "            \"constant\":-1.5}\n",
    "        ]\n",
    "    }\n",
    "contract2 = {\n",
    "        \"_comment2\": \"contract for subsystem 2, the assumption is that if input (u_2)\"\n",
    "        \"is greater than u_2_min = 1 then it guarantees that the output (x_2) is greater than x_2_min = 0.3\",\n",
    "        \"InputVars\":[\n",
    "            \"u_2\"\n",
    "        ],\n",
    "        \"OutputVars\":[\n",
    "            \"x_2\"\n",
    "        ],\n",
    "        \"assumptions\":\n",
    "        [\n",
    "            {\"coefficients\":{\"u_2\":-1},\n",
    "            \"constant\":-1}\n",
    "        ],\n",
    "        \"guarantees\":\n",
    "        [\n",
    "            {\"coefficients\":{\"x_2\":-1},\n",
    "            \"constant\":-0.3}\n",
    "        ]\n",
    "    }"
   ]
  },
  {
   "cell_type": "markdown",
   "metadata": {},
   "source": [
    "Use `gear` to compute the composition of contract1 and contract2"
   ]
  },
  {
   "cell_type": "code",
   "execution_count": 3,
   "metadata": {},
   "outputs": [
    {
     "name": "stdout",
     "output_type": "stream",
     "text": [
      "Contract1:\n",
      "InVars: {<Var u_1>}\n",
      "OutVars:{<Var x_1>}\n",
      "A: -1*u_1 <= -1\n",
      "G: -1*x_1 <= -1.5\n",
      "Contract2:\n",
      "InVars: {<Var u_2>}\n",
      "OutVars:{<Var x_2>}\n",
      "A: -1*u_2 <= -1\n",
      "G: -1*x_2 <= -0.30000000000000004\n"
     ]
    }
   ],
   "source": [
    "contracts_json = [contract1, contract2]\n",
    "contracts = []\n",
    "for c in contracts_json:\n",
    "    reqs = []\n",
    "    for key in ['assumptions', 'guarantees']:\n",
    "        reqs.append([polyhedralterm.PolyhedralTerm(term['coefficients'], term['constant']) for term in c[key]])\n",
    "    cont = iocontract.IoContract(inputVars=getVarset(c['InputVars']), outputVars=getVarset(c['OutputVars']),\n",
    "        assumptions=polyhedralterm.PolyhedralTermSet(set(reqs[0])), guarantees=polyhedralterm.PolyhedralTermSet(set(reqs[1])))\n",
    "    contracts.append(cont)\n",
    "print(\"Contract1:\\n\" + str(contracts[0]))\n",
    "print(\"Contract2:\\n\" + str(contracts[1]))\n"
   ]
  },
  {
   "cell_type": "markdown",
   "metadata": {},
   "source": [
    "## Composition"
   ]
  },
  {
   "cell_type": "code",
   "execution_count": 4,
   "metadata": {},
   "outputs": [],
   "source": [
    "contract_comp = contracts[0].compose(contracts[1])"
   ]
  },
  {
   "cell_type": "code",
   "execution_count": 5,
   "metadata": {},
   "outputs": [
    {
     "name": "stdout",
     "output_type": "stream",
     "text": [
      "InVars: {<Var u_2>, <Var u_1>}\n",
      "OutVars:{<Var x_1>, <Var x_2>}\n",
      "A: -1*u_1 <= -1, -1*u_2 <= -1\n",
      "G: -1*x_2 <= -0.30000000000000004, -1*x_1 <= -1.5\n"
     ]
    }
   ],
   "source": [
    "print(contract_comp)"
   ]
  },
  {
   "cell_type": "markdown",
   "metadata": {},
   "source": [
    "Post-process `contract_comp` (the composition of contract1 and contract2) (if needed as json)"
   ]
  },
  {
   "cell_type": "code",
   "execution_count": 6,
   "metadata": {},
   "outputs": [],
   "source": [
    "contract12 = {}\n",
    "contract12['InputVars']  = [str(var) for var in contract_comp.inputvars]\n",
    "contract12['OutputVars'] = [str(var) for var in contract_comp.outputvars]\n",
    "contract12['assumptions'] = [{'constant':str(term.constant), 'coefficients':{str(k):str(v) for k,v in term.variables.items()}} for term in contract_comp.a.terms]\n",
    "contract12['guarantees'] = [{'constant':str(term.constant), 'coefficients':{str(k):str(v) for k,v in term.variables.items()}} for term in contract_comp.g.terms]"
   ]
  },
  {
   "cell_type": "code",
   "execution_count": 7,
   "metadata": {},
   "outputs": [
    {
     "data": {
      "text/plain": [
       "{'InputVars': ['u_2', 'u_1'],\n",
       " 'OutputVars': ['x_1', 'x_2'],\n",
       " 'assumptions': [{'constant': '-1', 'coefficients': {'u_1': '-1'}},\n",
       "  {'constant': '-1', 'coefficients': {'u_2': '-1'}}],\n",
       " 'guarantees': [{'constant': '-0.30000000000000004',\n",
       "   'coefficients': {'x_2': '-1'}},\n",
       "  {'constant': '-1.5', 'coefficients': {'x_1': '-1'}}]}"
      ]
     },
     "execution_count": 7,
     "metadata": {},
     "output_type": "execute_result"
    }
   ],
   "source": [
    "contract12"
   ]
  },
  {
   "cell_type": "markdown",
   "metadata": {},
   "source": [
    "Write contract for third subsystem"
   ]
  },
  {
   "cell_type": "code",
   "execution_count": 8,
   "metadata": {},
   "outputs": [],
   "source": [
    "contract3 = {\n",
    "        \"_comment3\": \"contract for subsystem 3, the assumption is that if input (x_1 and x_2) are greater than x_1_min = 1.5 and x_2_min = 0.3 then it guarantees that the output (y) is greater than y_eps = 1.5\",\n",
    "        \"InputVars\":[\n",
    "            \"x_1\", \"x_2\"\n",
    "        ],\n",
    "        \"OutputVars\":[\n",
    "            \"y\"\n",
    "        ],\n",
    "        \"assumptions\":\n",
    "        [\n",
    "            {\"coefficients\":{\"x_1\":-1},\n",
    "            \"constant\":-1.5},\n",
    "            {\"coefficients\":{\"x_2\":-1},\n",
    "            \"constant\":-0.3}\n",
    "        ],\n",
    "        \"guarantees\":\n",
    "        [\n",
    "            {\"coefficients\":{\"y\":-1},\n",
    "            \"constant\":-1.5}\n",
    "        ]\n",
    "    }"
   ]
  },
  {
   "cell_type": "code",
   "execution_count": 9,
   "metadata": {},
   "outputs": [
    {
     "name": "stdout",
     "output_type": "stream",
     "text": [
      "Contract3:\n",
      "InVars: {<Var x_1>, <Var x_2>}\n",
      "OutVars:{<Var y>}\n",
      "A: -1*x_2 <= -0.3, -1*x_1 <= -1.5\n",
      "G: -1*y <= -1.5\n"
     ]
    }
   ],
   "source": [
    "c = contract3\n",
    "contracts = []\n",
    "reqs = []\n",
    "for key in ['assumptions', 'guarantees']:\n",
    "    reqs.append([polyhedralterm.PolyhedralTerm(term['coefficients'], term['constant']) for term in c[key]])\n",
    "cont = iocontract.IoContract(inputVars=getVarset(c['InputVars']), outputVars=getVarset(c['OutputVars']),\n",
    "    assumptions=polyhedralterm.PolyhedralTermSet(set(reqs[0])), guarantees=polyhedralterm.PolyhedralTermSet(set(reqs[1])))\n",
    "contracts.append(cont)\n",
    "print(\"Contract3:\\n\" + str(contracts[0]))\n"
   ]
  },
  {
   "cell_type": "markdown",
   "metadata": {},
   "source": [
    "Compose contract12 with contract3:"
   ]
  },
  {
   "cell_type": "code",
   "execution_count": 10,
   "metadata": {},
   "outputs": [],
   "source": [
    "and_gate_contract = contract_comp.compose(contracts[0])"
   ]
  },
  {
   "cell_type": "code",
   "execution_count": 11,
   "metadata": {},
   "outputs": [
    {
     "name": "stdout",
     "output_type": "stream",
     "text": [
      "InVars: {<Var u_2>, <Var u_1>}\n",
      "OutVars:{<Var y>}\n",
      "A: -1*u_1 <= -1, -1*u_2 <= -1\n",
      "G: -1*y <= -1.5\n"
     ]
    }
   ],
   "source": [
    "print(and_gate_contract)"
   ]
  },
  {
   "cell_type": "markdown",
   "metadata": {},
   "source": [
    "## Quotient\n",
    "\n",
    "Assume that we have `contract_comp` (the composition of `contract1` and `contract2`) and the `and_gate_contract` available. Synthesize the contract of subsystem 3 using quotient."
   ]
  },
  {
   "cell_type": "code",
   "execution_count": 28,
   "metadata": {},
   "outputs": [],
   "source": [
    "synthesized_contract = and_gate_contract.quotient(contract_comp)"
   ]
  },
  {
   "cell_type": "code",
   "execution_count": 29,
   "metadata": {},
   "outputs": [
    {
     "name": "stdout",
     "output_type": "stream",
     "text": [
      "InVars: {<Var x_1>, <Var x_2>}\n",
      "OutVars:{<Var y>}\n",
      "A: \n",
      "G: -1*y <= -1.5\n"
     ]
    }
   ],
   "source": [
    "print(synthesized_contract)"
   ]
  },
  {
   "cell_type": "markdown",
   "metadata": {},
   "source": [
    "Clearly, the assumptions were not computed correctly for the quotient in this example as they are empty. I tried to debug this and found out that the call to `termset.simplify` in `deduce_with_context` (Line 518) makes the set of assumption empty. Maybe this is happening because, again, the terms are not helping each other in this example. "
   ]
  }
 ],
 "metadata": {
  "kernelspec": {
   "display_name": "Python 3",
   "language": "python",
   "name": "python3"
  },
  "language_info": {
   "codemirror_mode": {
    "name": "ipython",
    "version": 3
   },
   "file_extension": ".py",
   "mimetype": "text/x-python",
   "name": "python",
   "nbconvert_exporter": "python",
   "pygments_lexer": "ipython3",
   "version": "3.7.4"
  }
 },
 "nbformat": 4,
 "nbformat_minor": 2
}
