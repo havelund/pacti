{
 "cells": [
  {
   "cell_type": "markdown",
   "metadata": {},
   "source": [
    "### Contracts for an AND logic gate composed of three subsystems using gear\n",
    "\n",
    "Import the libraries:"
   ]
  },
  {
   "cell_type": "code",
   "execution_count": 4,
   "metadata": {},
   "outputs": [],
   "source": [
    "import gear.iocontract as iocontract\n",
    "import gear.polyhedralterm as polyhedralterm\n",
    "from gear.gear import getVarset\n",
    "from gear.gear import readContract, writeContract"
   ]
  },
  {
   "cell_type": "markdown",
   "metadata": {},
   "source": [
    "Write contracts for subsystem 1 and subsystem 2:"
   ]
  },
  {
   "cell_type": "code",
   "execution_count": 5,
   "metadata": {},
   "outputs": [],
   "source": [
    "\n",
    "contract1 = {\n",
    "        \"_comment1\": \"contract for subsystem 1, the assumption is that if input (u_1)\"\n",
    "        \"is greater than u_1_min = 1, then it guarantees that the output (x_1) is greater than x_1_min = 1.5\",\n",
    "        \"InputVars\":[\n",
    "            \"u_1\"\n",
    "        ],\n",
    "        \"OutputVars\":[\n",
    "            \"x_1\"\n",
    "        ],\n",
    "        \"assumptions\":\n",
    "        [\n",
    "            {\"coefficients\":{\"u_1\":-1},\n",
    "            \"constant\":-1}\n",
    "        ],\n",
    "        \"guarantees\":\n",
    "        [\n",
    "            {\"coefficients\":{\"x_1\":-1},\n",
    "            \"constant\":-1.5}\n",
    "        ]\n",
    "    }\n",
    "contract2 = {\n",
    "        \"_comment2\": \"contract for subsystem 2, the assumption is that if input (u_2)\"\n",
    "        \"is greater than u_2_min = 1 then it guarantees that the output (x_2) is greater than x_2_min = 0.3\",\n",
    "        \"InputVars\":[\n",
    "            \"u_2\"\n",
    "        ],\n",
    "        \"OutputVars\":[\n",
    "            \"x_2\"\n",
    "        ],\n",
    "        \"assumptions\":\n",
    "        [\n",
    "            {\"coefficients\":{\"u_2\":-1},\n",
    "            \"constant\":-1}\n",
    "        ],\n",
    "        \"guarantees\":\n",
    "        [\n",
    "            {\"coefficients\":{\"x_2\":-1},\n",
    "            \"constant\":-0.3}\n",
    "        ]\n",
    "    }"
   ]
  },
  {
   "cell_type": "markdown",
   "metadata": {},
   "source": [
    "Use `gear` to compute the composition of contract1 and contract2"
   ]
  },
  {
   "cell_type": "code",
   "execution_count": 6,
   "metadata": {},
   "outputs": [
    {
     "name": "stdout",
     "output_type": "stream",
     "text": [
      "Contract1:\n",
      "InVars: {<Var u_1>}\n",
      "OutVars:{<Var x_1>}\n",
      "A: -1*u_1 <= -1\n",
      "G: -1*x_1 <= -1.5\n",
      "Contract2:\n",
      "InVars: {<Var u_2>}\n",
      "OutVars:{<Var x_2>}\n",
      "A: -1*u_2 <= -1\n",
      "G: -1*x_2 <= -0.30000000000000004\n"
     ]
    }
   ],
   "source": [
    "c1 = readContract(contract1)\n",
    "c2 = readContract(contract2)\n",
    "print(\"Contract1:\\n\" + str(c1))\n",
    "print(\"Contract2:\\n\" + str(c2))"
   ]
  },
  {
   "cell_type": "markdown",
   "metadata": {},
   "source": [
    "## Composition"
   ]
  },
  {
   "cell_type": "code",
   "execution_count": 7,
   "metadata": {},
   "outputs": [],
   "source": [
    "contract_comp = c1.compose(c2)"
   ]
  },
  {
   "cell_type": "code",
   "execution_count": 8,
   "metadata": {},
   "outputs": [
    {
     "name": "stdout",
     "output_type": "stream",
     "text": [
      "InVars: {<Var u_2>, <Var u_1>}\n",
      "OutVars:{<Var x_2>, <Var x_1>}\n",
      "A: -1*u_1 <= -1, -1*u_2 <= -1\n",
      "G: -1*x_2 <= -0.30000000000000004, -1*x_1 <= -1.5\n"
     ]
    }
   ],
   "source": [
    "print(contract_comp)"
   ]
  },
  {
   "cell_type": "markdown",
   "metadata": {},
   "source": [
    "Post-process `contract_comp` (the composition of contract1 and contract2) (if needed as json)"
   ]
  },
  {
   "cell_type": "code",
   "execution_count": 9,
   "metadata": {},
   "outputs": [],
   "source": [
    "contract12 = writeContract(contract_comp)"
   ]
  },
  {
   "cell_type": "code",
   "execution_count": 10,
   "metadata": {},
   "outputs": [
    {
     "data": {
      "text/plain": [
       "{'InputVars': ['u_2', 'u_1'],\n",
       " 'OutputVars': ['x_2', 'x_1'],\n",
       " 'assumptions': [{'constant': '-1', 'coefficients': {'u_1': '-1'}},\n",
       "  {'constant': '-1', 'coefficients': {'u_2': '-1'}}],\n",
       " 'guarantees': [{'constant': '-0.30000000000000004',\n",
       "   'coefficients': {'x_2': '-1'}},\n",
       "  {'constant': '-1.5', 'coefficients': {'x_1': '-1'}}]}"
      ]
     },
     "execution_count": 10,
     "metadata": {},
     "output_type": "execute_result"
    }
   ],
   "source": [
    "contract12"
   ]
  },
  {
   "cell_type": "markdown",
   "metadata": {},
   "source": [
    "Write contract for third subsystem"
   ]
  },
  {
   "cell_type": "code",
   "execution_count": 11,
   "metadata": {},
   "outputs": [],
   "source": [
    "contract3 = {\n",
    "        \"_comment3\": \"contract for subsystem 3, the assumption is that if input (x_1 and x_2) are greater than x_1_min = 1.5 and x_2_min = 0.3 then it guarantees that the output (y) is greater than y_eps = 1.5\",\n",
    "        \"InputVars\":[\n",
    "            \"x_1\", \"x_2\"\n",
    "        ],\n",
    "        \"OutputVars\":[\n",
    "            \"y\"\n",
    "        ],\n",
    "        \"assumptions\":\n",
    "        [\n",
    "            {\"coefficients\":{\"x_1\":-1},\n",
    "            \"constant\":-1.5},\n",
    "            {\"coefficients\":{\"x_2\":-1},\n",
    "            \"constant\":-0.3}\n",
    "        ],\n",
    "        \"guarantees\":\n",
    "        [\n",
    "            {\"coefficients\":{\"y\":-1},\n",
    "            \"constant\":-1.5}\n",
    "        ]\n",
    "    }"
   ]
  },
  {
   "cell_type": "code",
   "execution_count": 14,
   "metadata": {},
   "outputs": [
    {
     "name": "stdout",
     "output_type": "stream",
     "text": [
      "Contract3:\n",
      "InVars: {<Var x_2>, <Var x_1>}\n",
      "OutVars:{<Var y>}\n",
      "A: -1*x_2 <= -0.3, -1*x_1 <= -1.5\n",
      "G: -1*y <= -1.5\n"
     ]
    }
   ],
   "source": [
    "c = readContract(contract3)\n",
    "print(\"Contract3:\\n\" + str(c))\n"
   ]
  },
  {
   "cell_type": "markdown",
   "metadata": {},
   "source": [
    "Compose contract12 with contract3:"
   ]
  },
  {
   "cell_type": "code",
   "execution_count": 15,
   "metadata": {},
   "outputs": [],
   "source": [
    "and_gate_contract = contract_comp.compose(contracts[0])"
   ]
  },
  {
   "cell_type": "code",
   "execution_count": 16,
   "metadata": {},
   "outputs": [
    {
     "name": "stdout",
     "output_type": "stream",
     "text": [
      "InVars: {<Var u_2>, <Var u_1>}\n",
      "OutVars:{<Var y>}\n",
      "A: -1*u_1 <= -1, -1*u_2 <= -1\n",
      "G: -1*y <= -1.5\n"
     ]
    }
   ],
   "source": [
    "print(and_gate_contract)"
   ]
  },
  {
   "cell_type": "markdown",
   "metadata": {},
   "source": [
    "## Quotient\n",
    "\n",
    "Assume that we have `contract_comp` (the composition of `contract1` and `contract2`) and the `and_gate_contract` available. Synthesize the contract of subsystem 3 using quotient."
   ]
  },
  {
   "cell_type": "code",
   "execution_count": 17,
   "metadata": {},
   "outputs": [],
   "source": [
    "synthesized_contract = and_gate_contract.quotient(contract_comp)"
   ]
  },
  {
   "cell_type": "code",
   "execution_count": 18,
   "metadata": {},
   "outputs": [
    {
     "name": "stdout",
     "output_type": "stream",
     "text": [
      "InVars: {<Var x_2>, <Var x_1>}\n",
      "OutVars:{<Var y>}\n",
      "A: -1*x_2 <= -0.30000000000000004, -1*x_1 <= -1.5\n",
      "G: -1*y <= -1.5\n"
     ]
    }
   ],
   "source": [
    "print(synthesized_contract)"
   ]
  },
  {
   "cell_type": "markdown",
   "metadata": {},
   "source": [
    "Other quotient examples"
   ]
  },
  {
   "cell_type": "code",
   "execution_count": null,
   "metadata": {},
   "outputs": [],
   "source": [
    "contract_comp"
   ]
  },
  {
   "cell_type": "code",
   "execution_count": null,
   "metadata": {},
   "outputs": [],
   "source": [
    "contracts[0]"
   ]
  },
  {
   "cell_type": "code",
   "execution_count": null,
   "metadata": {},
   "outputs": [],
   "source": []
  }
 ],
 "metadata": {
  "kernelspec": {
   "display_name": "Python 3 (ipykernel)",
   "language": "python",
   "name": "python3"
  },
  "language_info": {
   "codemirror_mode": {
    "name": "ipython",
    "version": 3
   },
   "file_extension": ".py",
   "mimetype": "text/x-python",
   "name": "python",
   "nbconvert_exporter": "python",
   "pygments_lexer": "ipython3",
   "version": "3.9.12"
  }
 },
 "nbformat": 4,
 "nbformat_minor": 2
}
