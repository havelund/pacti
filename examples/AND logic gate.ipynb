{
 "cells": [
  {
   "cell_type": "markdown",
   "metadata": {},
   "source": [
    "### Contracts for an AND logic gate composed of three subsystems using gear\n",
    "\n",
    "Import the libraries:"
   ]
  },
  {
   "cell_type": "code",
   "execution_count": 15,
   "metadata": {},
   "outputs": [],
   "source": [
    "import gear.iocontract as iocontract\n",
    "import gear.polyhedralterm as polyhedralterm\n",
    "from gear.gear import getVarset"
   ]
  },
  {
   "cell_type": "markdown",
   "metadata": {},
   "source": [
    "Write contracts for subsystem 1 and subsystem 2:"
   ]
  },
  {
   "cell_type": "code",
   "execution_count": 16,
   "metadata": {},
   "outputs": [],
   "source": [
    "\n",
    "contract1 = {\n",
    "        \"_comment1\": \"contract for subsystem 1, the assumption is that if input (u_1)\"\n",
    "        \"is greater than u_1_min = 1, then it guarantees that the output (x_1) is greater than x_1_min = 1.5\",\n",
    "        \"InputVars\":[\n",
    "            \"u_1\"\n",
    "        ],\n",
    "        \"OutputVars\":[\n",
    "            \"x_1\"\n",
    "        ],\n",
    "        \"assumptions\":\n",
    "        [\n",
    "            {\"coefficients\":{\"u_1\":-1},\n",
    "            \"constant\":-1}\n",
    "        ],\n",
    "        \"guarantees\":\n",
    "        [\n",
    "            {\"coefficients\":{\"x_1\":-1},\n",
    "            \"constant\":-1.5}\n",
    "        ]\n",
    "    }\n",
    "contract2 = {\n",
    "        \"_comment2\": \"contract for subsystem 2, the assumption is that if input (u_2)\"\n",
    "        \"is greater than u_2_min = 1 then it guarantees that the output (x_2) is greater than x_2_min = 0.3\",\n",
    "        \"InputVars\":[\n",
    "            \"u_2\"\n",
    "        ],\n",
    "        \"OutputVars\":[\n",
    "            \"x_2\"\n",
    "        ],\n",
    "        \"assumptions\":\n",
    "        [\n",
    "            {\"coefficients\":{\"u_2\":-1},\n",
    "            \"constant\":-1}\n",
    "        ],\n",
    "        \"guarantees\":\n",
    "        [\n",
    "            {\"coefficients\":{\"x_2\":-1},\n",
    "            \"constant\":-0.3}\n",
    "        ]\n",
    "    }"
   ]
  },
  {
   "cell_type": "markdown",
   "metadata": {},
   "source": [
    "Use `gear` to compute the composition of contract1 and contract2"
   ]
  },
  {
   "cell_type": "code",
   "execution_count": 27,
   "metadata": {},
   "outputs": [
    {
     "name": "stdout",
     "output_type": "stream",
     "text": [
      "Contract1:\n",
      "InVars: {<Var u_1>}\n",
      "OutVars:{<Var x_1>}\n",
      "A: -1*u_1 <= -1\n",
      "G: -1*x_1 <= -1.5\n",
      "Contract2:\n",
      "InVars: {<Var u_2>}\n",
      "OutVars:{<Var x_2>}\n",
      "A: -1*u_2 <= -1\n",
      "G: -1*x_2 <= -0.30000000000000004\n"
     ]
    }
   ],
   "source": [
    "contracts_json = [contract1, contract2]\n",
    "contracts = []\n",
    "for c in contracts_json:\n",
    "    reqs = []\n",
    "    for key in ['assumptions', 'guarantees']:\n",
    "        reqs.append([polyhedralterm.PolyhedralTerm(term['coefficients'], term['constant']) for term in c[key]])\n",
    "    cont = iocontract.IoContract(inputVars=getVarset(c['InputVars']), outputVars=getVarset(c['OutputVars']),\n",
    "        assumptions=polyhedralterm.PolyhedralTermSet(set(reqs[0])), guarantees=polyhedralterm.PolyhedralTermSet(set(reqs[1])))\n",
    "    contracts.append(cont)\n",
    "print(\"Contract1:\\n\" + str(contracts[0]))\n",
    "print(\"Contract2:\\n\" + str(contracts[1]))\n"
   ]
  },
  {
   "cell_type": "code",
   "execution_count": 36,
   "metadata": {},
   "outputs": [],
   "source": [
    "contract_comp = contracts[0].compose(contracts[1])"
   ]
  },
  {
   "cell_type": "code",
   "execution_count": 37,
   "metadata": {},
   "outputs": [
    {
     "name": "stdout",
     "output_type": "stream",
     "text": [
      "InVars: {<Var u_2>, <Var u_1>}\n",
      "OutVars:{<Var x_1>, <Var x_2>}\n",
      "A: -1*u_1 <= -1, -1*u_2 <= -1\n",
      "G: -1*x_2 <= -0.30000000000000004, -1*x_1 <= -1.5\n"
     ]
    }
   ],
   "source": [
    "print(contract_comp)"
   ]
  },
  {
   "cell_type": "markdown",
   "metadata": {},
   "source": [
    "Post-process `contract_comp` (the composition of contract1 and contract2) (if needed as json)"
   ]
  },
  {
   "cell_type": "code",
   "execution_count": 38,
   "metadata": {},
   "outputs": [],
   "source": [
    "contract12 = {}\n",
    "contract12['InputVars']  = [str(var) for var in contract_comp.inputvars]\n",
    "contract12['OutputVars'] = [str(var) for var in contract_comp.outputvars]\n",
    "contract12['assumptions'] = [{'constant':str(term.constant), 'coefficients':{str(k):str(v) for k,v in term.variables.items()}} for term in contract_comp.a.terms]\n",
    "contract12['guarantees'] = [{'constant':str(term.constant), 'coefficients':{str(k):str(v) for k,v in term.variables.items()}} for term in contract_comp.g.terms]"
   ]
  },
  {
   "cell_type": "code",
   "execution_count": 39,
   "metadata": {},
   "outputs": [
    {
     "data": {
      "text/plain": [
       "{'InputVars': ['u_2', 'u_1'],\n",
       " 'OutputVars': ['x_1', 'x_2'],\n",
       " 'assumptions': [{'constant': '-1', 'coefficients': {'u_1': '-1'}},\n",
       "  {'constant': '-1', 'coefficients': {'u_2': '-1'}}],\n",
       " 'guarantees': [{'constant': '-0.30000000000000004',\n",
       "   'coefficients': {'x_2': '-1'}},\n",
       "  {'constant': '-1.5', 'coefficients': {'x_1': '-1'}}]}"
      ]
     },
     "execution_count": 39,
     "metadata": {},
     "output_type": "execute_result"
    }
   ],
   "source": [
    "contract12"
   ]
  },
  {
   "cell_type": "markdown",
   "metadata": {},
   "source": [
    "Write contract for third subsystem"
   ]
  },
  {
   "cell_type": "code",
   "execution_count": 40,
   "metadata": {},
   "outputs": [],
   "source": [
    "contract3 = {\n",
    "        \"_comment3\": \"contract for subsystem 3, the assumption is that if input (x_1 and x_2) are greater than x_1_min = 1.5 and x_2_min = 0.3 then it guarantees that the output (y) is greater than y_eps = 1.5\",\n",
    "        \"InputVars\":[\n",
    "            \"x_1\", \"x_2\"\n",
    "        ],\n",
    "        \"OutputVars\":[\n",
    "            \"y\"\n",
    "        ],\n",
    "        \"assumptions\":\n",
    "        [\n",
    "            {\"coefficients\":{\"x_1\":-1},\n",
    "            \"constant\":-1.5},\n",
    "            {\"coefficients\":{\"x_2\":-1},\n",
    "            \"constant\":-0.3}\n",
    "        ],\n",
    "        \"guarantees\":\n",
    "        [\n",
    "            {\"coefficients\":{\"y\":-1},\n",
    "            \"constant\":-1.5}\n",
    "        ]\n",
    "    }"
   ]
  },
  {
   "cell_type": "code",
   "execution_count": 54,
   "metadata": {},
   "outputs": [
    {
     "name": "stdout",
     "output_type": "stream",
     "text": [
      "Contract3:\n",
      "InVars: {<Var x_2>, <Var x_1>}\n",
      "OutVars:{<Var y>}\n",
      "A: -1*x_2 <= -0.3, -1*x_1 <= -1.5\n",
      "G: -1*y <= -1.5\n"
     ]
    }
   ],
   "source": [
    "c = contract3\n",
    "contracts = []\n",
    "reqs = []\n",
    "for key in ['assumptions', 'guarantees']:\n",
    "    reqs.append([polyhedralterm.PolyhedralTerm(term['coefficients'], term['constant']) for term in c[key]])\n",
    "cont = iocontract.IoContract(inputVars=getVarset(c['InputVars']), outputVars=getVarset(c['OutputVars']),\n",
    "    assumptions=polyhedralterm.PolyhedralTermSet(set(reqs[0])), guarantees=polyhedralterm.PolyhedralTermSet(set(reqs[1])))\n",
    "contracts.append(cont)\n",
    "print(\"Contract3:\\n\" + str(contracts[0]))\n"
   ]
  },
  {
   "cell_type": "markdown",
   "metadata": {},
   "source": [
    "Compose contract12 with contract3:"
   ]
  },
  {
   "cell_type": "code",
   "execution_count": 56,
   "metadata": {},
   "outputs": [
    {
     "ename": "ValueError",
     "evalue": "not enough values to unpack (expected 2, got 1)",
     "output_type": "error",
     "traceback": [
      "\u001b[1;31m---------------------------------------------------------------------------\u001b[0m",
      "\u001b[1;31mValueError\u001b[0m                                Traceback (most recent call last)",
      "\u001b[1;32m<ipython-input-56-5aa0f28cc223>\u001b[0m in \u001b[0;36m<module>\u001b[1;34m\u001b[0m\n\u001b[1;32m----> 1\u001b[1;33m \u001b[0mand_gate_contract\u001b[0m \u001b[1;33m=\u001b[0m \u001b[0mcontract_comp\u001b[0m\u001b[1;33m.\u001b[0m\u001b[0mcompose\u001b[0m\u001b[1;33m(\u001b[0m\u001b[0mcontracts\u001b[0m\u001b[1;33m[\u001b[0m\u001b[1;36m0\u001b[0m\u001b[1;33m]\u001b[0m\u001b[1;33m)\u001b[0m\u001b[1;33m\u001b[0m\u001b[1;33m\u001b[0m\u001b[0m\n\u001b[0m",
      "\u001b[1;32mc:\\users\\apand\\box\\biocircuits\\ayush\\research\\contracttool\\src\\gear\\iocontract.py\u001b[0m in \u001b[0;36mcompose\u001b[1;34m(self, other)\u001b[0m\n\u001b[0;32m    353\u001b[0m             \u001b[1;32massert\u001b[0m \u001b[1;32mFalse\u001b[0m\u001b[1;33m\u001b[0m\u001b[1;33m\u001b[0m\u001b[0m\n\u001b[0;32m    354\u001b[0m         \u001b[1;32melif\u001b[0m \u001b[0mself_helps_other\u001b[0m\u001b[1;33m:\u001b[0m\u001b[1;33m\u001b[0m\u001b[1;33m\u001b[0m\u001b[0m\n\u001b[1;32m--> 355\u001b[1;33m             \u001b[0mother\u001b[0m\u001b[1;33m.\u001b[0m\u001b[0ma\u001b[0m\u001b[1;33m.\u001b[0m\u001b[0mabduce_with_context\u001b[0m\u001b[1;33m(\u001b[0m\u001b[0mself\u001b[0m\u001b[1;33m.\u001b[0m\u001b[0mg\u001b[0m\u001b[1;33m,\u001b[0m \u001b[0mintvars\u001b[0m \u001b[1;33m|\u001b[0m \u001b[0moutputvars\u001b[0m\u001b[1;33m)\u001b[0m\u001b[1;33m\u001b[0m\u001b[1;33m\u001b[0m\u001b[0m\n\u001b[0m\u001b[0;32m    356\u001b[0m             \u001b[0massumptions\u001b[0m \u001b[1;33m=\u001b[0m \u001b[0mother\u001b[0m\u001b[1;33m.\u001b[0m\u001b[0ma\u001b[0m \u001b[1;33m|\u001b[0m \u001b[0mself\u001b[0m\u001b[1;33m.\u001b[0m\u001b[0ma\u001b[0m\u001b[1;33m\u001b[0m\u001b[1;33m\u001b[0m\u001b[0m\n\u001b[0;32m    357\u001b[0m         \u001b[1;32melif\u001b[0m \u001b[0mother_helps_self\u001b[0m\u001b[1;33m:\u001b[0m\u001b[1;33m\u001b[0m\u001b[1;33m\u001b[0m\u001b[0m\n",
      "\u001b[1;32mc:\\users\\apand\\box\\biocircuits\\ayush\\research\\contracttool\\src\\gear\\polyhedralterm.py\u001b[0m in \u001b[0;36mabduce_with_context\u001b[1;34m(self, context, vars_to_elim)\u001b[0m\n\u001b[0;32m    457\u001b[0m         \u001b[0mlogging\u001b[0m\u001b[1;33m.\u001b[0m\u001b[0mdebug\u001b[0m\u001b[1;33m(\u001b[0m\u001b[1;34m\"Vars to elim: %s\"\u001b[0m\u001b[1;33m,\u001b[0m \u001b[0mvars_to_elim\u001b[0m\u001b[1;33m)\u001b[0m\u001b[1;33m\u001b[0m\u001b[1;33m\u001b[0m\u001b[0m\n\u001b[0;32m    458\u001b[0m         \u001b[0mself\u001b[0m\u001b[1;33m.\u001b[0m\u001b[0msimplify\u001b[0m\u001b[1;33m(\u001b[0m\u001b[0mcontext\u001b[0m\u001b[1;33m)\u001b[0m\u001b[1;33m\u001b[0m\u001b[1;33m\u001b[0m\u001b[0m\n\u001b[1;32m--> 459\u001b[1;33m         \u001b[0mself\u001b[0m\u001b[1;33m.\u001b[0m\u001b[0m_transform\u001b[0m\u001b[1;33m(\u001b[0m\u001b[0mcontext\u001b[0m\u001b[1;33m,\u001b[0m \u001b[0mvars_to_elim\u001b[0m\u001b[1;33m,\u001b[0m \u001b[1;32mTrue\u001b[0m\u001b[1;33m)\u001b[0m\u001b[1;33m\u001b[0m\u001b[1;33m\u001b[0m\u001b[0m\n\u001b[0m\u001b[0;32m    460\u001b[0m \u001b[1;33m\u001b[0m\u001b[0m\n\u001b[0;32m    461\u001b[0m     def deduce_with_context(self, context: iocontract.TermSet,\n",
      "\u001b[1;32mc:\\users\\apand\\box\\biocircuits\\ayush\\research\\contracttool\\src\\gear\\polyhedralterm.py\u001b[0m in \u001b[0;36m_transform\u001b[1;34m(self, context, vars_to_elim, polarity)\u001b[0m\n\u001b[0;32m    430\u001b[0m \u001b[1;33m\u001b[0m\u001b[0m\n\u001b[0;32m    431\u001b[0m         \u001b[1;31m# the last step needs to be a simplification\u001b[0m\u001b[1;33m\u001b[0m\u001b[1;33m\u001b[0m\u001b[1;33m\u001b[0m\u001b[0m\n\u001b[1;32m--> 432\u001b[1;33m         \u001b[0mself\u001b[0m\u001b[1;33m.\u001b[0m\u001b[0msimplify\u001b[0m\u001b[1;33m(\u001b[0m\u001b[1;33m)\u001b[0m\u001b[1;33m\u001b[0m\u001b[1;33m\u001b[0m\u001b[0m\n\u001b[0m\u001b[0;32m    433\u001b[0m \u001b[1;33m\u001b[0m\u001b[0m\n\u001b[0;32m    434\u001b[0m \u001b[1;33m\u001b[0m\u001b[0m\n",
      "\u001b[1;32mc:\\users\\apand\\box\\biocircuits\\ayush\\research\\contracttool\\src\\gear\\polyhedralterm.py\u001b[0m in \u001b[0;36msimplify\u001b[1;34m(self, context)\u001b[0m\n\u001b[0;32m    514\u001b[0m         \u001b[0mlogging\u001b[0m\u001b[1;33m.\u001b[0m\u001b[0mdebug\u001b[0m\u001b[1;33m(\u001b[0m\u001b[1;34m\"Polytope is %s\"\u001b[0m\u001b[1;33m,\u001b[0m \u001b[0mself_mat\u001b[0m\u001b[1;33m)\u001b[0m\u001b[1;33m\u001b[0m\u001b[1;33m\u001b[0m\u001b[0m\n\u001b[0;32m    515\u001b[0m         a_red, b_red = PolyhedralTermSet.reduce_polytope(self_mat, self_cons,\n\u001b[1;32m--> 516\u001b[1;33m                                                          ctx_mat, ctx_cons)\n\u001b[0m\u001b[0;32m    517\u001b[0m         \u001b[0mlogging\u001b[0m\u001b[1;33m.\u001b[0m\u001b[0mdebug\u001b[0m\u001b[1;33m(\u001b[0m\u001b[1;34m\"Reduction: %s\"\u001b[0m\u001b[1;33m,\u001b[0m \u001b[0ma_red\u001b[0m\u001b[1;33m)\u001b[0m\u001b[1;33m\u001b[0m\u001b[1;33m\u001b[0m\u001b[0m\n\u001b[0;32m    518\u001b[0m         self.terms = PolyhedralTermSet.polytope_to_termset(a_red, b_red,\n",
      "\u001b[1;32mc:\\users\\apand\\box\\biocircuits\\ayush\\research\\contracttool\\src\\gear\\polyhedralterm.py\u001b[0m in \u001b[0;36mreduce_polytope\u001b[1;34m(a, b, a_help, b_help)\u001b[0m\n\u001b[0;32m    640\u001b[0m                 \u001b[0mVector\u001b[0m \u001b[0mof\u001b[0m \u001b[0mH\u001b[0m\u001b[1;33m-\u001b[0m\u001b[0mrepresentation\u001b[0m \u001b[0mof\u001b[0m \u001b[0mcontext\u001b[0m \u001b[0mpolytope\u001b[0m\u001b[1;33m.\u001b[0m\u001b[1;33m\u001b[0m\u001b[1;33m\u001b[0m\u001b[0m\n\u001b[0;32m    641\u001b[0m         \"\"\"\n\u001b[1;32m--> 642\u001b[1;33m         \u001b[0mn\u001b[0m\u001b[1;33m,\u001b[0m \u001b[0mm\u001b[0m \u001b[1;33m=\u001b[0m \u001b[0ma\u001b[0m\u001b[1;33m.\u001b[0m\u001b[0mshape\u001b[0m\u001b[1;33m\u001b[0m\u001b[1;33m\u001b[0m\u001b[0m\n\u001b[0m\u001b[0;32m    643\u001b[0m         \u001b[0mn_h\u001b[0m\u001b[1;33m,\u001b[0m \u001b[0mm_h\u001b[0m \u001b[1;33m=\u001b[0m \u001b[0ma_help\u001b[0m\u001b[1;33m.\u001b[0m\u001b[0mshape\u001b[0m\u001b[1;33m\u001b[0m\u001b[1;33m\u001b[0m\u001b[0m\n\u001b[0;32m    644\u001b[0m         \u001b[0mhelper_present\u001b[0m \u001b[1;33m=\u001b[0m \u001b[0mn_h\u001b[0m\u001b[1;33m*\u001b[0m\u001b[0mm_h\u001b[0m \u001b[1;33m>\u001b[0m \u001b[1;36m0\u001b[0m\u001b[1;33m\u001b[0m\u001b[1;33m\u001b[0m\u001b[0m\n",
      "\u001b[1;31mValueError\u001b[0m: not enough values to unpack (expected 2, got 1)"
     ]
    }
   ],
   "source": [
    "and_gate_contract = contract_comp.compose(contracts[0])"
   ]
  },
  {
   "cell_type": "code",
   "execution_count": 57,
   "metadata": {},
   "outputs": [
    {
     "name": "stdout",
     "output_type": "stream",
     "text": [
      "InVars: {<Var u_2>, <Var u_1>}\n",
      "OutVars:{<Var x_1>, <Var x_2>}\n",
      "A: -1*u_1 <= -1, -1*u_2 <= -1\n",
      "G: -1*x_2 <= -0.30000000000000004, -1*x_1 <= -1.5\n"
     ]
    }
   ],
   "source": [
    "print(contract_comp)"
   ]
  },
  {
   "cell_type": "code",
   "execution_count": 58,
   "metadata": {},
   "outputs": [
    {
     "name": "stdout",
     "output_type": "stream",
     "text": [
      "InVars: {<Var x_2>, <Var x_1>}\n",
      "OutVars:{<Var y>}\n",
      "A: \n",
      "G: -1*y <= -1.5\n"
     ]
    }
   ],
   "source": [
    "print(contracts[0])"
   ]
  },
  {
   "cell_type": "markdown",
   "metadata": {},
   "source": [
    "Observe that contracts[0] changes after running the compose operation above. The assumptions \"A\" are empty now? Before running the compose function, this was not the case."
   ]
  },
  {
   "cell_type": "code",
   "execution_count": null,
   "metadata": {},
   "outputs": [],
   "source": []
  }
 ],
 "metadata": {
  "kernelspec": {
   "display_name": "Python 3",
   "language": "python",
   "name": "python3"
  },
  "language_info": {
   "codemirror_mode": {
    "name": "ipython",
    "version": 3
   },
   "file_extension": ".py",
   "mimetype": "text/x-python",
   "name": "python",
   "nbconvert_exporter": "python",
   "pygments_lexer": "ipython3",
   "version": "3.7.3"
  }
 },
 "nbformat": 4,
 "nbformat_minor": 2
}
